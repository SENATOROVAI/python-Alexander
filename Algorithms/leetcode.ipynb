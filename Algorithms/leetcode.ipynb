{
 "cells": [
  {
   "cell_type": "code",
   "execution_count": 6,
   "metadata": {},
   "outputs": [
    {
     "data": {
      "text/plain": [
       "[518.15, 473.0]"
      ]
     },
     "execution_count": 6,
     "metadata": {},
     "output_type": "execute_result"
    }
   ],
   "source": [
    "# link https://leetcode.com/problems/convert-the-temperature/\n",
    "from typing import List\n",
    "\n",
    "class Solution:\n",
    "    def convertTemperature(self, celsius: float) -> List[float]:\n",
    "        return [celsius + 273.15, celsius * 1.80 + 32.00]\n",
    "\n",
    "object1 = Solution()\n",
    "object1.convertTemperature(245)"
   ]
  }
 ],
 "metadata": {
  "kernelspec": {
   "display_name": "venv_conda",
   "language": "python",
   "name": "python3"
  },
  "language_info": {
   "codemirror_mode": {
    "name": "ipython",
    "version": 3
   },
   "file_extension": ".py",
   "mimetype": "text/x-python",
   "name": "python",
   "nbconvert_exporter": "python",
   "pygments_lexer": "ipython3",
   "version": "3.11.5"
  }
 },
 "nbformat": 4,
 "nbformat_minor": 2
}
