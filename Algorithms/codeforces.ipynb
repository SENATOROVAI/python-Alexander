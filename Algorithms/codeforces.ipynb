{
 "cells": [
  {
   "cell_type": "code",
   "execution_count": null,
   "metadata": {},
   "outputs": [],
   "source": [
    "#https://codeforces.com/problemset/problem/4/A\n",
    "\n",
    "w = int(input())# input return str data types\n",
    "\n",
    "if w % 2 == 0 and w>2:\n",
    "    print(\"yes\")\n",
    "else:\n",
    "    print(\"no\")\n"
   ]
  }
 ],
 "metadata": {
  "language_info": {
   "name": "python"
  }
 },
 "nbformat": 4,
 "nbformat_minor": 2
}
