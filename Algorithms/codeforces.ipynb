{
 "cells": [
  {
   "cell_type": "markdown",
   "metadata": {},
   "source": [
    "# Задачи на Codeforces"
   ]
  },
  {
   "cell_type": "code",
   "execution_count": 1,
   "metadata": {},
   "outputs": [],
   "source": [
    "# link: https://codeforces.com/problemset/problem/4/A\n",
    "# task:\n",
    "w = int(input())# input return str data types\n",
    "\n",
    "if w % 2 == 0 and w>2:\n",
    "    print(\"yes\")\n",
    "else:\n",
    "    print(\"no\")"
   ]
  },
  {
   "cell_type": "code",
   "execution_count": null,
   "metadata": {},
   "outputs": [],
   "source": [
    "# link: https://codeforces.com/problemset/problem/271/A\n",
    "# task:\n",
    "a = input()\n",
    "a = int(a) + 1\n",
    "b = set(str(a))\n",
    "while len(set(b)) !=4:\n",
    "    a = int(a) + 1\n",
    "    b = set(str(a))\n",
    "print(a)"
   ]
  },
  {
   "cell_type": "code",
   "execution_count": null,
   "metadata": {},
   "outputs": [],
   "source": [
    "#link: https://codeforces.com/problemset/problem/705/A\n",
    "#task:\n",
    "print(*(['I hate','I love']*50)[:int(input())],sep=' that ',end=' it')"
   ]
  },
  {
   "cell_type": "code",
   "execution_count": null,
   "metadata": {},
   "outputs": [],
   "source": [
    "#link: https://codeforces.com/problemset/problem/617/A\n",
    "#task:\n",
    "x = int(input())\n",
    "print((x + 4) // 5)"
   ]
  }
 ],
 "metadata": {
  "kernelspec": {
   "display_name": "venv_conda",
   "language": "python",
   "name": "python3"
  },
  "language_info": {
   "codemirror_mode": {
    "name": "ipython",
    "version": 3
   },
   "file_extension": ".py",
   "mimetype": "text/x-python",
   "name": "python",
   "nbconvert_exporter": "python",
   "pygments_lexer": "ipython3",
   "version": "3.11.5"
  }
 },
 "nbformat": 4,
 "nbformat_minor": 2
}
