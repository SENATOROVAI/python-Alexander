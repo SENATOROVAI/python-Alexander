{
 "cells": [
  {
   "cell_type": "markdown",
   "metadata": {},
   "source": [
    "# Задачи на Codeforces"
   ]
  },
  {
   "cell_type": "code",
   "execution_count": 1,
   "metadata": {},
   "outputs": [],
   "source": [
    "# link: https://codeforces.com/problemset/problem/4/A\n",
    "# task:\n",
    "w = int(input())# input return str data types\n",
    "\n",
    "if w % 2 == 0 and w>2:\n",
    "    print(\"yes\")\n",
    "else:\n",
    "    print(\"no\")"
   ]
  },
  {
   "cell_type": "code",
   "execution_count": null,
   "metadata": {},
   "outputs": [],
   "source": [
    "# link: https://codeforces.com/problemset/problem/271/A\n",
    "# task:\n",
    "a = input()\n",
    "a = int(a) + 1\n",
    "b = set(str(a))\n",
    "while len(set(b)) !=4:\n",
    "    a = int(a) + 1\n",
    "    b = set(str(a))\n",
    "print(a)"
   ]
  },
  {
   "cell_type": "code",
   "execution_count": null,
   "metadata": {},
   "outputs": [],
   "source": [
    "#link: https://codeforces.com/problemset/problem/705/A\n",
    "#task:\n",
    "print(*(['I hate','I love']*50)[:int(input())],sep=' that ',end=' it')"
   ]
  },
  {
   "cell_type": "code",
   "execution_count": null,
   "metadata": {},
   "outputs": [],
   "source": [
    "#link: https://codeforces.com/problemset/problem/617/A\n",
    "#task:\n",
    "x = int(input())\n",
    "print((x + 4) // 5)"
   ]
  },
  {
   "cell_type": "code",
   "execution_count": null,
   "metadata": {},
   "outputs": [],
   "source": [
    "#link: https://codeforces.com/problemset/problem/50/A\n",
    "#task: \n",
    "x, y = map(int, input().split()) \n",
    "s = x * y\n",
    "n = s // 2\n",
    "print(n)"
   ]
  },
  {
   "cell_type": "code",
   "execution_count": 41,
   "metadata": {},
   "outputs": [
    {
     "data": {
      "text/plain": [
       "20"
      ]
     },
     "execution_count": 41,
     "metadata": {},
     "output_type": "execute_result"
    }
   ],
   "source": [
    "# k,n,w = \"10 15 20\".split()\n",
    "\n",
    "# n, *w  = map(int, ['10', '15', '20']) # парное присвоение, распоковываем map\n",
    "w\n",
    "# for i in n:\n",
    "#     print(i)\n",
    "# n1 = n.__next__()\n",
    "# n2 = n.__next__()\n",
    "# n1, n2\n",
    "# type(n) "
   ]
  },
  {
   "cell_type": "code",
   "execution_count": 45,
   "metadata": {},
   "outputs": [
    {
     "data": {
      "text/plain": [
       "17"
      ]
     },
     "execution_count": 45,
     "metadata": {},
     "output_type": "execute_result"
    }
   ],
   "source": [
    "# k, n, w  = map(int, \"3 17 4\".split()) # парное присвоение, распоковываем map\n"
   ]
  },
  {
   "cell_type": "code",
   "execution_count": 54,
   "metadata": {},
   "outputs": [
    {
     "data": {
      "text/plain": [
       "0"
      ]
     },
     "execution_count": 54,
     "metadata": {},
     "output_type": "execute_result"
    }
   ],
   "source": [
    "(k, n, w) = tuple(map(lambda x: int(x) if x != '' else None, input().split(\" \")))\n",
    "print((lambda x: 0 if x <= 0 else x)(k*w*(w+1)//2-n))\n",
    "\n",
    "# dir(lambda x: 0 if x <= 0 else x)\n",
    "# type(lambda x: 0 if x <= 0 else x)\n",
    "# def lambda(x):\n",
    "#     return 0 if x <= 0 else x\n",
    "\n",
    "# (1,2,3) == tuple((1,2,3))\n",
    "# [1,2,3] == list((1,2,3))"
   ]
  },
  {
   "cell_type": "code",
   "execution_count": 66,
   "metadata": {},
   "outputs": [],
   "source": [
    "# https://codeforces.com/problemset/problem/546/A\n",
    "(k, n, w) = tuple(map(lambda x: int(x) if x != '' else None, input().split(\" \")))\n",
    "print((lambda x: 0 if x <= 0 else x)(k*w*(w+1)//2-n))\n",
    "\n"
   ]
  },
  {
   "cell_type": "code",
   "execution_count": null,
   "metadata": {},
   "outputs": [],
   "source": []
  }
 ],
 "metadata": {
  "kernelspec": {
   "display_name": "venv_conda",
   "language": "python",
   "name": "python3"
  },
  "language_info": {
   "codemirror_mode": {
    "name": "ipython",
    "version": 3
   },
   "file_extension": ".py",
   "mimetype": "text/x-python",
   "name": "python",
   "nbconvert_exporter": "python",
   "pygments_lexer": "ipython3",
   "version": "3.11.5"
  }
 },
 "nbformat": 4,
 "nbformat_minor": 2
}
