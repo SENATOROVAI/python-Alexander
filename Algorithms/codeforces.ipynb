{
 "cells": [
  {
   "cell_type": "markdown",
   "metadata": {},
   "source": [
    "# Задачи на Codeforces"
   ]
  },
  {
   "cell_type": "code",
   "execution_count": 1,
   "metadata": {},
   "outputs": [],
   "source": [
    "# link: https://codeforces.com/problemset/problem/4/A\n",
    "# task:\n",
    "w = int(input())# input return str data types\n",
    "\n",
    "if w % 2 == 0 and w>2:\n",
    "    print(\"yes\")\n",
    "else:\n",
    "    print(\"no\")"
   ]
  },
  {
   "cell_type": "code",
   "execution_count": null,
   "metadata": {},
   "outputs": [],
   "source": [
    "# link: https://codeforces.com/problemset/problem/271/A\n",
    "# task:\n",
    "a = input()\n",
    "a = int(a) + 1\n",
    "b = set(str(a))\n",
    "while len(set(b)) !=4:\n",
    "    a = int(a) + 1\n",
    "    b = set(str(a))\n",
    "print(a)"
   ]
  },
  {
   "cell_type": "code",
   "execution_count": null,
   "metadata": {},
   "outputs": [],
   "source": [
    "#link: https://codeforces.com/problemset/problem/705/A\n",
    "#task:\n",
    "print(*(['I hate','I love']*50)[:int(input())],sep=' that ',end=' it')"
   ]
  },
  {
   "cell_type": "code",
   "execution_count": null,
   "metadata": {},
   "outputs": [],
   "source": [
    "#link: https://codeforces.com/problemset/problem/617/A\n",
    "#task:\n",
    "x = int(input())\n",
    "print((x + 4) // 5)"
   ]
  },
  {
   "cell_type": "code",
   "execution_count": null,
   "metadata": {},
   "outputs": [],
   "source": [
    "#link: https://codeforces.com/problemset/problem/50/A\n",
    "#task: \n",
    "x, y = map(int, input().split()) \n",
    "s = x * y\n",
    "n = s // 2\n",
    "print(n)"
   ]
  },
  {
   "cell_type": "code",
   "execution_count": 1,
   "metadata": {},
   "outputs": [
    {
     "ename": "ValueError",
     "evalue": "invalid literal for int() with base 10: ''",
     "output_type": "error",
     "traceback": [
      "\u001b[1;31m---------------------------------------------------------------------------\u001b[0m",
      "\u001b[1;31mValueError\u001b[0m                                Traceback (most recent call last)",
      "Cell \u001b[1;32mIn[1], line 3\u001b[0m\n\u001b[0;32m      1\u001b[0m \u001b[38;5;66;03m#link: https://codeforces.com/problemset/problem/486/A\u001b[39;00m\n\u001b[0;32m      2\u001b[0m \u001b[38;5;66;03m#task:\u001b[39;00m\n\u001b[1;32m----> 3\u001b[0m n \u001b[38;5;241m=\u001b[39m \u001b[38;5;28mint\u001b[39m(\u001b[38;5;28minput\u001b[39m())\n\u001b[0;32m      4\u001b[0m \u001b[38;5;28;01mif\u001b[39;00m n\u001b[38;5;241m%\u001b[39m\u001b[38;5;241m2\u001b[39m \u001b[38;5;241m==\u001b[39m \u001b[38;5;241m0\u001b[39m:\n\u001b[0;32m      5\u001b[0m   \u001b[38;5;28mprint\u001b[39m(n\u001b[38;5;241m/\u001b[39m\u001b[38;5;241m/\u001b[39m\u001b[38;5;241m2\u001b[39m)\n",
      "\u001b[1;31mValueError\u001b[0m: invalid literal for int() with base 10: ''"
     ]
    }
   ],
   "source": [
    "#link: https://codeforces.com/problemset/problem/486/A\n",
    "#task:\n",
    "n = int(input())\n",
    "if n%2 == 0:\n",
    "  print(n//2)\n",
    "else:\n",
    "  print(-((n+1)//2))"
   ]
  },
  {
   "cell_type": "code",
   "execution_count": null,
   "metadata": {},
   "outputs": [],
   "source": [
    "#link: https://codeforces.com/problemset/problem/1335/A\n",
    "#task:\n",
    "x = int(input())\n",
    "for i in range(x):\n",
    "    n = int(input())\n",
    "    print((n - 1)//2)"
   ]
  },
  {
   "cell_type": "code",
   "execution_count": null,
   "metadata": {},
   "outputs": [],
   "source": [
    "#link: https://codeforces.com/problemset/problem/750/A\n",
    "#task: \n",
    "n, k = map(int, input().split())\n",
    "while n * (n + 1)//2 * 5 > 240 - k:\n",
    "    n -= 1\n",
    "print(n)"
   ]
  },
  {
   "cell_type": "code",
   "execution_count": 66,
   "metadata": {},
   "outputs": [],
   "source": [
    "# https://codeforces.com/problemset/problem/546/A\n",
    "(k, n, w) = tuple(map(lambda x: int(x) if x != '' else None, input().split(\" \")))\n",
    "print((lambda x: 0 if x <= 0 else x)(k*w*(w+1)//2-n))\n",
    "\n"
   ]
  },
  {
   "cell_type": "code",
   "execution_count": null,
   "metadata": {},
   "outputs": [],
   "source": [
    "#link: https://codeforces.com/problemset/problem/148/A\n",
    "#task: \n",
    "k=int(input())\n",
    "l=int(input())\n",
    "m=int(input())\n",
    "n=int(input())\n",
    "d=int(input())\n",
    "count=0\n",
    "for i in range(1,d+1):\n",
    "    if i % k==0 or i % l==0 or i % m==0 or i % n==0:\n",
    "         count+=1\n",
    "print(count)"
   ]
  },
  {
   "cell_type": "code",
   "execution_count": null,
   "metadata": {},
   "outputs": [],
   "source": [
    "#link: https://codeforces.com/problemset/problem/1328/A\n",
    "#task:\n",
    "n = int(input())\n",
    "for i in range(n):\n",
    "    a,b = map(int,input().split())\n",
    "    if a%b ==0:\n",
    "        print(0)\n",
    "    else:\n",
    "        d = a//b + 1\n",
    "        print((b*d)-a)"
   ]
  },
  {
   "cell_type": "code",
   "execution_count": null,
   "metadata": {},
   "outputs": [],
   "source": [
    "#link: https://codeforces.com/problemset/problem/1352/A\n",
    "#task: \n",
    "n = int(input())\n",
    "for i in range(n):\n",
    "    k = int(input())\n",
    "    i = 1\n",
    "    ar = []\n",
    "    j = 0\n",
    "    while k!=0:\n",
    "        r = k%10\n",
    "        if r != 0:\n",
    "            ar.append(r*i)\n",
    "            j += 1\n",
    "        i *= 10\n",
    "        k = k//10\n",
    "    print(j)\n",
    "    print(\" \".join(map(str,ar)))"
   ]
  },
  {
   "cell_type": "code",
   "execution_count": null,
   "metadata": {},
   "outputs": [],
   "source": [
    "#link: https://codeforces.com/problemset/problem/1374/A\n",
    "#task: \n",
    "t = int(input())\n",
    "for I in range(t):\n",
    "    x, y, n = map(int,input().split())\n",
    "    l = (n-y)//x\n",
    "    m = ((n-y)//x)*x+y\n",
    "    print(m)"
   ]
  },
  {
   "cell_type": "code",
   "execution_count": null,
   "metadata": {},
   "outputs": [],
   "source": [
    "#link: https://codeforces.com/problemset/problem/1283/A\n",
    "#task:\n",
    "t = int(input())\n",
    "for i in range(t):\n",
    "\th, m = input().split()\n",
    "\th = int(h)\n",
    "\tm = int(m)\n",
    "\tprint((23 - h) * 60 + (60 - m))"
   ]
  },
  {
   "cell_type": "code",
   "execution_count": null,
   "metadata": {},
   "outputs": [],
   "source": [
    "#link: https://codeforces.com/problemset/problem/1593/A\n",
    "#task:\n",
    "A = int(input())\n",
    "for t in range(A) :\n",
    "    a = list(map(int, input().split()))\n",
    "    k = max(a)\n",
    "    \n",
    "    for i in a :\n",
    "        if(i == k ) :\n",
    "            if(a.count(i) == 1 ) :\n",
    "                print('0', end = ' ')\n",
    "            else :\n",
    "                print('1', end = ' ')\n",
    "        else :\n",
    "            print(k - i + 1 , end = ' ')\n",
    "    print('')"
   ]
  },
  {
   "cell_type": "code",
   "execution_count": null,
   "metadata": {},
   "outputs": [],
   "source": [
    "#link: https://codeforces.com/problemset/problem/71/A\n",
    "#task:\n",
    "n = int(input())     \n",
    "for i in range(n):\n",
    "    a = input()      \n",
    "    if len(a) > 10: \n",
    "        b = a[0]     \n",
    "        c = a[-1]    \n",
    "        d = a[1:-2]  \n",
    "        a = b + str(len(d)+1) + c       \n",
    "    print(a) \n"
   ]
  },
  {
   "cell_type": "code",
   "execution_count": null,
   "metadata": {},
   "outputs": [],
   "source": [
    "#link: https://codeforces.com/problemset/problem/723/A\n",
    "#task:\n",
    "fr = list(map(int, input().split(' ')))\n",
    "fr.sort()\n",
    "fr\n",
    "dist = (fr[2] - fr[1]) + (fr[1] - fr[0])\n",
    "print(dist)"
   ]
  }
 ],
 "metadata": {
  "kernelspec": {
   "display_name": "venv_conda",
   "language": "python",
   "name": "python3"
  },
  "language_info": {
   "codemirror_mode": {
    "name": "ipython",
    "version": 3
   },
   "file_extension": ".py",
   "mimetype": "text/x-python",
   "name": "python",
   "nbconvert_exporter": "python",
   "pygments_lexer": "ipython3",
   "version": "3.11.5"
  }
 },
 "nbformat": 4,
 "nbformat_minor": 2
}
