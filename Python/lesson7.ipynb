{
 "cells": [
  {
   "cell_type": "markdown",
   "metadata": {},
   "source": [
    "# python написан на C"
   ]
  },
  {
   "cell_type": "code",
   "execution_count": 54,
   "metadata": {},
   "outputs": [
    {
     "data": {
      "text/plain": [
       "[8]"
      ]
     },
     "execution_count": 54,
     "metadata": {},
     "output_type": "execute_result"
    }
   ],
   "source": [
    "list1 = [] # синтаксический сахар - упрощенный вариант\n",
    "list2 = list() # [] == list() / создание объекта / экземпляра класса\n",
    "\n",
    "dir(list1) # атрибуты объекта / методы объекта\n",
    "\n",
    "list1.append(8) # list1.append - VOID - нерезультирующий метод / dot notation / точечная нотация\n",
    "list1\n",
    "# help(list1.append)\n"
   ]
  },
  {
   "cell_type": "code",
   "execution_count": 44,
   "metadata": {},
   "outputs": [
    {
     "data": {
      "text/plain": [
       "list"
      ]
     },
     "execution_count": 44,
     "metadata": {},
     "output_type": "execute_result"
    }
   ],
   "source": [
    "type(list1) # тип данных / имя класса"
   ]
  },
  {
   "cell_type": "code",
   "execution_count": 12,
   "metadata": {},
   "outputs": [
    {
     "name": "stdout",
     "output_type": "stream",
     "text": [
      "Help on built-in function print in module builtins:\n",
      "\n",
      "print(*args, sep=' ', end='\\n', file=None, flush=False)\n",
      "    Prints the values to a stream, or to sys.stdout by default.\n",
      "    \n",
      "    sep\n",
      "      string inserted between values, default a space.\n",
      "    end\n",
      "      string appended after the last value, default a newline.\n",
      "    file\n",
      "      a file-like object (stream); defaults to the current sys.stdout.\n",
      "    flush\n",
      "      whether to forcibly flush the stream.\n",
      "\n"
     ]
    }
   ],
   "source": [
    "def get_value(string: str) -> int: # type hinting, аннотация типов\n",
    "    return int(string) # создание объекта - это название класса + ()\n",
    "\n",
    "get_value(\"7\")\n",
    "\n",
    "help(print) \n",
    "    "
   ]
  },
  {
   "cell_type": "code",
   "execution_count": 6,
   "metadata": {},
   "outputs": [
    {
     "data": {
      "text/plain": [
       "(19, 33, 19)"
      ]
     },
     "execution_count": 6,
     "metadata": {},
     "output_type": "execute_result"
    }
   ],
   "source": [
    "def sum_int(a: int, b: int) -> int: # параметры функци\n",
    "    return a + b\n",
    "\n",
    "sum_int(b=12, a=7) , sum_int(b=16, a=17), sum_int.__call__(b=12, a=7) # аргументы функции \n"
   ]
  },
  {
   "cell_type": "code",
   "execution_count": 60,
   "metadata": {},
   "outputs": [
    {
     "data": {
      "text/plain": [
       "(7, 10)"
      ]
     },
     "execution_count": 60,
     "metadata": {},
     "output_type": "execute_result"
    }
   ],
   "source": [
    "class Alex: # все классы наследуются от метакласса object\n",
    "    number = 7 # переменные в классе это свойство класса / атрибут класса / поле класса\n",
    "    \n",
    "    def get_value(self, str: str) -> str: # функции в классе называются методы класса, вместо self подставляется название объекта \n",
    "        return f\"Hello {str}\" # интерполирование переменной / извлечение значение переменной в строке \n",
    "    \n",
    "    def set_value(self, integer: str) -> str: # функции в классе называются методы класса, вместо self подставляется название объекта \n",
    "        return integer + 5 # интерполирование переменной / извлечение значение переменной в строке \n",
    "  \n",
    "object1 = Alex() # создание объекта / экземпляра класса\n",
    "\n",
    "dir(object1) # атрибуты объекта / методы объекта\n",
    "\n",
    "object1.get_value(\"world\")\n",
    "\n",
    "object2 = Alex()\n",
    "object2.get_value(\"test\")\n",
    "\n",
    "\n",
    "# object1.number # вызов свойства / атрибута\n",
    "Alex.number, object2.set_value(5)\n",
    "# str(bin(id(object2)))[2::] , bin(id(object1)) # 0b - префикс"
   ]
  },
  {
   "cell_type": "markdown",
   "metadata": {},
   "source": [
    "def - ключевое слово для создания функции\n",
    "class - это создание класса, если у нас название класса + () - это создание объекта\n",
    "### class - это контейнер для функций "
   ]
  }
 ],
 "metadata": {
  "kernelspec": {
   "display_name": "venv_conda",
   "language": "python",
   "name": "python3"
  },
  "language_info": {
   "codemirror_mode": {
    "name": "ipython",
    "version": 3
   },
   "file_extension": ".py",
   "mimetype": "text/x-python",
   "name": "python",
   "nbconvert_exporter": "python",
   "pygments_lexer": "ipython3",
   "version": "3.11.5"
  }
 },
 "nbformat": 4,
 "nbformat_minor": 2
}
