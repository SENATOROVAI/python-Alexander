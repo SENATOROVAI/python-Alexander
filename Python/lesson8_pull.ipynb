{
 "cells": [
  {
   "cell_type": "markdown",
   "metadata": {},
   "source": [
    "### Делаю пулл реквест\n",
    "2) Форкаю репу\n",
    "3) Клонирую на локалку\n",
    "4) Вношу правки\n",
    "5) Отдаю пуш\n",
    "6) Захожу в свою репу\n",
    "7) Делаю пулл реквест\n",
    "8) Кидаю ссылку в чат code rewiew\n"
   ]
  }
 ],
 "metadata": {
  "language_info": {
   "name": "python"
  }
 },
 "nbformat": 4,
 "nbformat_minor": 2
}
