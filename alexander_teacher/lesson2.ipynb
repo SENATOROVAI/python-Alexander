{
 "cells": [
  {
   "cell_type": "markdown",
   "metadata": {},
   "source": [
    " # Урок по ООП"
   ]
  },
  {
   "cell_type": "code",
   "execution_count": 3,
   "metadata": {},
   "outputs": [
    {
     "data": {
      "text/plain": [
       "list"
      ]
     },
     "execution_count": 3,
     "metadata": {},
     "output_type": "execute_result"
    }
   ],
   "source": [
    "list1 = [] # синтаксический сахар - упрощение \n",
    "list2 = list() # в Python практически все объекты\n",
    "list() # чтобы создать объект нужно название класса + () \n",
    "dir(list1) # атрибуты объекта или методы объекта \n",
    "type(list1)"
   ]
  },
  {
   "cell_type": "code",
   "execution_count": 4,
   "metadata": {},
   "outputs": [
    {
     "data": {
      "text/plain": [
       "23"
      ]
     },
     "execution_count": 4,
     "metadata": {},
     "output_type": "execute_result"
    }
   ],
   "source": [
    "def get_value(string: str) -> int: # аннотация типов, #параметры функции \n",
    "    return int(string)\n",
    "get_value('23')"
   ]
  },
  {
   "cell_type": "code",
   "execution_count": 6,
   "metadata": {},
   "outputs": [
    {
     "data": {
      "text/plain": [
       "(14, 53)"
      ]
     },
     "execution_count": 6,
     "metadata": {},
     "output_type": "execute_result"
    }
   ],
   "source": [
    "def sum_int(a: int, b: int) -> int:\n",
    "    return a + b \n",
    "sum_int(a = 4, b= 10), sum_int(a = 33, b = 20) # аргументы функции "
   ]
  },
  {
   "cell_type": "code",
   "execution_count": 9,
   "metadata": {},
   "outputs": [
    {
     "data": {
      "text/plain": [
       "'HelloWorld'"
      ]
     },
     "execution_count": 9,
     "metadata": {},
     "output_type": "execute_result"
    }
   ],
   "source": [
    "#все классы наследуются от метакласса object \n",
    "class Alex:\n",
    "    number = 12 # переменные в классе - это свойства класса или атрибуты класса \n",
    "\n",
    "    def get_value(self, str: str) -> str: # Self = это ключевое слово, которое используется для обращения к свойствам и методам объекта внутри класса\n",
    "        return f\"Hello{str}\" #интерполирование переменной или извлечение значения переменной в строке \n",
    "object1 = Alex()\n",
    "object1.get_value(\"World\") #вызов метода\n",
    "Alex.number\n",
    "#Class - это контейнер для функций \n"
   ]
  },
  {
   "cell_type": "code",
   "execution_count": 58,
   "metadata": {},
   "outputs": [
    {
     "name": "stdout",
     "output_type": "stream",
     "text": [
      "100\n",
      "100\n",
      "100\n",
      "tanya\n",
      "empty\n",
      "empty\n",
      "empty\n",
      "drunk\n",
      "i dont drink\n",
      "andrey 10\n",
      "empty\n"
     ]
    },
    {
     "ename": "TypeError",
     "evalue": "unsupported operand type(s) for +: 'Indianperson' and 'int'",
     "output_type": "error",
     "traceback": [
      "\u001b[1;31m---------------------------------------------------------------------------\u001b[0m",
      "\u001b[1;31mTypeError\u001b[0m                                 Traceback (most recent call last)",
      "\u001b[1;32mc:\\Users\\user\\Documents\\GitHub\\python-Alexander\\alexander_teacher\\lesson2.ipynb Cell 6\u001b[0m line \u001b[0;36m6\n\u001b[0;32m     <a href='vscode-notebook-cell:/c%3A/Users/user/Documents/GitHub/python-Alexander/alexander_teacher/lesson2.ipynb#W5sZmlsZQ%3D%3D?line=59'>60</a>\u001b[0m     x\u001b[39m.\u001b[39mget_drink()\n\u001b[0;32m     <a href='vscode-notebook-cell:/c%3A/Users/user/Documents/GitHub/python-Alexander/alexander_teacher/lesson2.ipynb#W5sZmlsZQ%3D%3D?line=60'>61</a>\u001b[0m test(tanya)\n\u001b[1;32m---> <a href='vscode-notebook-cell:/c%3A/Users/user/Documents/GitHub/python-Alexander/alexander_teacher/lesson2.ipynb#W5sZmlsZQ%3D%3D?line=61'>62</a>\u001b[0m andrey\u001b[39m.\u001b[39mtest(\u001b[39m1\u001b[39m)\n\u001b[0;32m     <a href='vscode-notebook-cell:/c%3A/Users/user/Documents/GitHub/python-Alexander/alexander_teacher/lesson2.ipynb#W5sZmlsZQ%3D%3D?line=62'>63</a>\u001b[0m andrey\u001b[39m.\u001b[39mtest(\u001b[39m1\u001b[39m, \u001b[39m2\u001b[39m)\n",
      "\u001b[1;32mc:\\Users\\user\\Documents\\GitHub\\python-Alexander\\alexander_teacher\\lesson2.ipynb Cell 6\u001b[0m line \u001b[0;36m2\n\u001b[0;32m     <a href='vscode-notebook-cell:/c%3A/Users/user/Documents/GitHub/python-Alexander/alexander_teacher/lesson2.ipynb#W5sZmlsZQ%3D%3D?line=26'>27</a>\u001b[0m \u001b[39mdef\u001b[39;00m \u001b[39mtest\u001b[39m(x: \u001b[39mint\u001b[39m, y: \u001b[39mint\u001b[39m):\n\u001b[1;32m---> <a href='vscode-notebook-cell:/c%3A/Users/user/Documents/GitHub/python-Alexander/alexander_teacher/lesson2.ipynb#W5sZmlsZQ%3D%3D?line=27'>28</a>\u001b[0m     \u001b[39mprint\u001b[39m(x \u001b[39m+\u001b[39m y)\n",
      "\u001b[1;31mTypeError\u001b[0m: unsupported operand type(s) for +: 'Indianperson' and 'int'"
     ]
    }
   ],
   "source": [
    "class Body:\n",
    "    size = 100\n",
    "\n",
    "class Person(object):\n",
    "    body = Body()\n",
    "\n",
    "    @property\n",
    "    def name(self):\n",
    "        return self._name\n",
    "    @property\n",
    "    def age(self) -> int:\n",
    "        return self._age\n",
    "   \n",
    "\n",
    "    def __init__(self, name: str, age: int):\n",
    "        self._name = name\n",
    "        self._age = age\n",
    "\n",
    "    #def __add__(self, other: \"Person\") -> int: \n",
    "        #return self._age + other.get_age()\n",
    "    #def __add__(self, other: \"Person\") -> int: \n",
    "        #return f\"{self._name}\\\\{other._name}\"\n",
    "    def get_drink(self):\n",
    "        print(\"empty\")\n",
    "    def test(x: int):\n",
    "        print(x)\n",
    "    def test(x: int, y: int):\n",
    "        print(x + y)\n",
    "\n",
    "class USAPerson(Person):\n",
    "\n",
    "    def get_drink(self):\n",
    "        if self._age > 16:\n",
    "            print(\"drunk\")\n",
    "\n",
    "class Indianperson(Person):\n",
    "    def get_drink(self):\n",
    "        print(\"i dont drink\")\n",
    "\n",
    "\n",
    "\n",
    "\n",
    "\n",
    "tanya = Person(\"tanya\", 17)\n",
    "vita = Person(\"Vita\", 15)\n",
    "sanya = Person(\"sanya\", 21)\n",
    "ivan = USAPerson(\"ivan\", 17)\n",
    "andrey = Indianperson(\"andrey\", 10)\n",
    "print(vita.body.size)\n",
    "print(tanya.body.size)\n",
    "print(Person.body.size)\n",
    "print(tanya._name)\n",
    "sanya.get_drink()\n",
    "vita.get_drink()\n",
    "tanya.get_drink()\n",
    "ivan.get_drink()\n",
    "andrey.get_drink()\n",
    "print(andrey.name, andrey.age)\n",
    "def test(x: Person):\n",
    "    x.get_drink()\n",
    "test(tanya)\n",
    "andrey.test(1)\n",
    "andrey.test(1, 2)\n",
    "\n"
   ]
  },
  {
   "cell_type": "code",
   "execution_count": 67,
   "metadata": {},
   "outputs": [
    {
     "ename": "NotImplementedError",
     "evalue": "You should not call an overloaded function. A series of @overload-decorated functions outside a stub module should always be followed by an implementation that is not @overload-ed.",
     "output_type": "error",
     "traceback": [
      "\u001b[1;31m---------------------------------------------------------------------------\u001b[0m",
      "\u001b[1;31mNotImplementedError\u001b[0m                       Traceback (most recent call last)",
      "\u001b[1;32mc:\\Users\\user\\Documents\\GitHub\\python-Alexander\\alexander_teacher\\lesson2.ipynb Cell 7\u001b[0m line \u001b[0;36m1\n\u001b[0;32m     <a href='vscode-notebook-cell:/c%3A/Users/user/Documents/GitHub/python-Alexander/alexander_teacher/lesson2.ipynb#X10sZmlsZQ%3D%3D?line=11'>12</a>\u001b[0m     \u001b[39m@overload\u001b[39m\n\u001b[0;32m     <a href='vscode-notebook-cell:/c%3A/Users/user/Documents/GitHub/python-Alexander/alexander_teacher/lesson2.ipynb#X10sZmlsZQ%3D%3D?line=12'>13</a>\u001b[0m     \u001b[39m@staticmethod\u001b[39m\n\u001b[0;32m     <a href='vscode-notebook-cell:/c%3A/Users/user/Documents/GitHub/python-Alexander/alexander_teacher/lesson2.ipynb#X10sZmlsZQ%3D%3D?line=13'>14</a>\u001b[0m     \u001b[39mdef\u001b[39;00m \u001b[39mtest\u001b[39m(x: \u001b[39mint\u001b[39m, y: \u001b[39mint\u001b[39m):\n\u001b[0;32m     <a href='vscode-notebook-cell:/c%3A/Users/user/Documents/GitHub/python-Alexander/alexander_teacher/lesson2.ipynb#X10sZmlsZQ%3D%3D?line=14'>15</a>\u001b[0m         \u001b[39mprint\u001b[39m(x \u001b[39m+\u001b[39m y)\n\u001b[1;32m---> <a href='vscode-notebook-cell:/c%3A/Users/user/Documents/GitHub/python-Alexander/alexander_teacher/lesson2.ipynb#X10sZmlsZQ%3D%3D?line=15'>16</a>\u001b[0m Person\u001b[39m.\u001b[39mtest(\u001b[39m1\u001b[39m)\n",
      "File \u001b[1;32mc:\\ProgramData\\anaconda3\\envs\\venv_conda\\Lib\\typing.py:2562\u001b[0m, in \u001b[0;36m_overload_dummy\u001b[1;34m(*args, **kwds)\u001b[0m\n\u001b[0;32m   2560\u001b[0m \u001b[39mdef\u001b[39;00m \u001b[39m_overload_dummy\u001b[39m(\u001b[39m*\u001b[39margs, \u001b[39m*\u001b[39m\u001b[39m*\u001b[39mkwds):\n\u001b[0;32m   2561\u001b[0m \u001b[39m    \u001b[39m\u001b[39m\"\"\"Helper for @overload to raise when called.\"\"\"\u001b[39;00m\n\u001b[1;32m-> 2562\u001b[0m     \u001b[39mraise\u001b[39;00m \u001b[39mNotImplementedError\u001b[39;00m(\n\u001b[0;32m   2563\u001b[0m         \u001b[39m\"\u001b[39m\u001b[39mYou should not call an overloaded function. \u001b[39m\u001b[39m\"\u001b[39m\n\u001b[0;32m   2564\u001b[0m         \u001b[39m\"\u001b[39m\u001b[39mA series of @overload-decorated functions \u001b[39m\u001b[39m\"\u001b[39m\n\u001b[0;32m   2565\u001b[0m         \u001b[39m\"\u001b[39m\u001b[39moutside a stub module should always be followed \u001b[39m\u001b[39m\"\u001b[39m\n\u001b[0;32m   2566\u001b[0m         \u001b[39m\"\u001b[39m\u001b[39mby an implementation that is not @overload-ed.\u001b[39m\u001b[39m\"\u001b[39m)\n",
      "\u001b[1;31mNotImplementedError\u001b[0m: You should not call an overloaded function. A series of @overload-decorated functions outside a stub module should always be followed by an implementation that is not @overload-ed."
     ]
    }
   ],
   "source": [
    "from typing import Optional, overload\n",
    "class Person(object):\n",
    "  \n",
    "   \n",
    "\n",
    "  \n",
    "\n",
    "    @overload\n",
    "    @staticmethod\n",
    "    def test(x: int):\n",
    "        print(x)\n",
    "    @overload\n",
    "    @staticmethod\n",
    "    def test(x: int, y: int):\n",
    "        print(x + y)\n",
    "Person.test(1)"
   ]
  }
 ],
 "metadata": {
  "kernelspec": {
   "display_name": "venv_conda",
   "language": "python",
   "name": "python3"
  },
  "language_info": {
   "codemirror_mode": {
    "name": "ipython",
    "version": 3
   },
   "file_extension": ".py",
   "mimetype": "text/x-python",
   "name": "python",
   "nbconvert_exporter": "python",
   "pygments_lexer": "ipython3",
   "version": "3.11.5"
  }
 },
 "nbformat": 4,
 "nbformat_minor": 2
}
