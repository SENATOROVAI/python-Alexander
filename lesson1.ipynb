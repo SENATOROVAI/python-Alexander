{
 "cells": [
  {
   "cell_type": "code",
   "execution_count": null,
   "metadata": {},
   "outputs": [],
   "source": [
    "fork is clonning procedur to a private account \n",
    "pull requests is transfer of changes to forked repository\n",
    "commit is saving changes\n"
   ]
  },
  {
   "cell_type": "markdown",
   "metadata": {},
   "source": [
    "git config --global user.email \"smoskovski2006@yandex.ru\"\n",
    "  git config --global user.name \"Destroyagony\""
   ]
  }
 ],
 "metadata": {
  "language_info": {
   "name": "python"
  }
 },
 "nbformat": 4,
 "nbformat_minor": 2
}
