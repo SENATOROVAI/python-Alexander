{
 "cells": [
  {
   "cell_type": "code",
   "execution_count": null,
   "metadata": {},
   "outputs": [],
   "source": [
    "ДАТА 27. 10. 23\n",
    "1) Узнал что такое venv\n",
    "2) Узнал что такое pip \n",
    "3) Узнал что такое flake8\n",
    "4) Узнал что такое black\n",
    "5) flake8 - это litter \n",
    "6) black - упрощает жизнь, а точнее знает все правила программирования. инструмент автоформатирования кода\n",
    "7) mypy - делает аннотацию типов\n",
    "8) узнал как папку git перекидывать в cmd (командную строку)\n",
    "9) узнал что такое python -m venv venv \n",
    "\n"
   ]
  },
  {
   "cell_type": "code",
   "execution_count": null,
   "metadata": {},
   "outputs": [],
   "source": [
    "ДАТА 30.10.23\n",
    "1) Узнал как активировать Windows\n",
    "2) Узнал что такое Anaconda\n",
    "3) Научился правильно пользоваться SelectKernel\n",
    "4) Узнал что conda это package manager который управляет зависимостями( для data since)\n",
    "5) Научился создавать виртуальное окружение в anaconda\n",
    "6) Узнал о Jupyter"
   ]
  }
 ],
 "metadata": {
  "language_info": {
   "name": "python"
  }
 },
 "nbformat": 4,
 "nbformat_minor": 2
}
